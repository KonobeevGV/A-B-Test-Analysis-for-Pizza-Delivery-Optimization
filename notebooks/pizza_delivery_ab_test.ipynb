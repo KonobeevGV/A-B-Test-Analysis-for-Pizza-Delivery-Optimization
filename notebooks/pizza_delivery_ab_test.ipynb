{
 "cells": [
  {
   "cell_type": "markdown",
   "id": "cc095998",
   "metadata": {},
   "source": [
    "# Анализ A/B теста для улучшения эффективности доставки пиццы\n",
    "\n",
    "## Контекст бизнес-проблемы\n",
    "\n",
    "Работаю аналитиком в крупной компании по доставке пиццы, где столкнулись с существенной проблемой: в вечерние часы наблюдается значительное падение скорости доставки. Это связано с тем, что курьеры завершают рабочий день и возвращаются домой, в то время как объем заказов продолжает расти. Особенно остро эта проблема проявляется в период пересменки.\n",
    "\n",
    "## Решение от Data Science команды\n",
    "\n",
    "Для оптимизации этого процесса разработан новый алгоритм, который позволяет курьерам планировать последние заказы дня таким образом, чтобы маршрут доставки совпадал с направлением к их дому. Это создает ситуацию \"доставки по пути домой\", что потенциально может решить несколько проблем:\n",
    "\n",
    "- Увеличить количество курьеров, готовых принимать заказы в конце рабочего дня\n",
    "- Сократить время доставки в вечерние часы\n",
    "- Повысить удовлетворенность курьеров за счет оптимизации их маршрутов\n",
    "\n",
    "## Постановка эксперимента\n",
    "\n",
    "Был запущен A/B тест, в котором участвуют две группы курьеров:\n",
    "- **Контрольная группа (A)** - используют старый алгоритм без опции \"по пути домой\"\n",
    "- **Тестовая группа (B)** - имеют доступ к новой функции и могут выбирать заказы по пути домой\n",
    "\n",
    "## Цель анализа\n",
    "\n",
    "Мне предстоит провести комплексный анализ данных эксперимента, чтобы оценить:\n",
    "- Статистическую значимость различий между группами\n",
    "- Влияние новой функции на ключевые метрики доставки\n",
    "- Практическую значимость изменений для бизнеса\n",
    "- Дать рекомендацию о раскатке фичи на всех курьеров\n",
    "\n",
    "## Данные для анализа\n",
    "В распоряжении имеются следующие данные:\n",
    "- `order_id` - идентификатор заказа\n",
    "- `delivery_time` - время доставки в минутах\n",
    "- `district` - район доставки\n",
    "- `experiment_group` - принадлежность к экспериментальной группе\n",
    "\n",
    "Приступаю к поэтапному анализу данных эксперимента."
   ]
  },
  {
   "cell_type": "code",
   "execution_count": 31,
   "id": "5df7fec5",
   "metadata": {},
   "outputs": [],
   "source": [
    "import pandas as pd\n",
    "import scipy.stats as st\n",
    "from matplotlib import pyplot as plt \n",
    "import seaborn as sns"
   ]
  },
  {
   "cell_type": "code",
   "execution_count": null,
   "id": "3271a7fa",
   "metadata": {},
   "outputs": [
    {
     "data": {
      "text/html": [
       "<div>\n",
       "<style scoped>\n",
       "    .dataframe tbody tr th:only-of-type {\n",
       "        vertical-align: middle;\n",
       "    }\n",
       "\n",
       "    .dataframe tbody tr th {\n",
       "        vertical-align: top;\n",
       "    }\n",
       "\n",
       "    .dataframe thead th {\n",
       "        text-align: right;\n",
       "    }\n",
       "</style>\n",
       "<table border=\"1\" class=\"dataframe\">\n",
       "  <thead>\n",
       "    <tr style=\"text-align: right;\">\n",
       "      <th></th>\n",
       "      <th>order_id</th>\n",
       "      <th>delivery_time</th>\n",
       "      <th>district</th>\n",
       "      <th>experiment_group</th>\n",
       "    </tr>\n",
       "  </thead>\n",
       "  <tbody>\n",
       "    <tr>\n",
       "      <th>0</th>\n",
       "      <td>3159</td>\n",
       "      <td>44.0</td>\n",
       "      <td>Purlieus</td>\n",
       "      <td>control</td>\n",
       "    </tr>\n",
       "    <tr>\n",
       "      <th>1</th>\n",
       "      <td>10426</td>\n",
       "      <td>51.0</td>\n",
       "      <td>Purlieus</td>\n",
       "      <td>control</td>\n",
       "    </tr>\n",
       "    <tr>\n",
       "      <th>2</th>\n",
       "      <td>9155</td>\n",
       "      <td>46.0</td>\n",
       "      <td>Purlieus</td>\n",
       "      <td>control</td>\n",
       "    </tr>\n",
       "    <tr>\n",
       "      <th>3</th>\n",
       "      <td>10699</td>\n",
       "      <td>34.0</td>\n",
       "      <td>Purlieus</td>\n",
       "      <td>control</td>\n",
       "    </tr>\n",
       "    <tr>\n",
       "      <th>4</th>\n",
       "      <td>10061</td>\n",
       "      <td>43.0</td>\n",
       "      <td>Purlieus</td>\n",
       "      <td>control</td>\n",
       "    </tr>\n",
       "    <tr>\n",
       "      <th>...</th>\n",
       "      <td>...</td>\n",
       "      <td>...</td>\n",
       "      <td>...</td>\n",
       "      <td>...</td>\n",
       "    </tr>\n",
       "    <tr>\n",
       "      <th>20191</th>\n",
       "      <td>14561</td>\n",
       "      <td>42.0</td>\n",
       "      <td>Suburb</td>\n",
       "      <td>test</td>\n",
       "    </tr>\n",
       "    <tr>\n",
       "      <th>20192</th>\n",
       "      <td>12015</td>\n",
       "      <td>32.0</td>\n",
       "      <td>Suburb</td>\n",
       "      <td>test</td>\n",
       "    </tr>\n",
       "    <tr>\n",
       "      <th>20193</th>\n",
       "      <td>20077</td>\n",
       "      <td>23.0</td>\n",
       "      <td>Purlieus</td>\n",
       "      <td>test</td>\n",
       "    </tr>\n",
       "    <tr>\n",
       "      <th>20194</th>\n",
       "      <td>14861</td>\n",
       "      <td>41.0</td>\n",
       "      <td>Central</td>\n",
       "      <td>test</td>\n",
       "    </tr>\n",
       "    <tr>\n",
       "      <th>20195</th>\n",
       "      <td>13501</td>\n",
       "      <td>41.0</td>\n",
       "      <td>Central</td>\n",
       "      <td>test</td>\n",
       "    </tr>\n",
       "  </tbody>\n",
       "</table>\n",
       "<p>20196 rows × 4 columns</p>\n",
       "</div>"
      ],
      "text/plain": [
       "       order_id  delivery_time  district experiment_group\n",
       "0          3159           44.0  Purlieus          control\n",
       "1         10426           51.0  Purlieus          control\n",
       "2          9155           46.0  Purlieus          control\n",
       "3         10699           34.0  Purlieus          control\n",
       "4         10061           43.0  Purlieus          control\n",
       "...         ...            ...       ...              ...\n",
       "20191     14561           42.0    Suburb             test\n",
       "20192     12015           32.0    Suburb             test\n",
       "20193     20077           23.0  Purlieus             test\n",
       "20194     14861           41.0   Central             test\n",
       "20195     13501           41.0   Central             test\n",
       "\n",
       "[20196 rows x 4 columns]"
      ]
     },
     "execution_count": 22,
     "metadata": {},
     "output_type": "execute_result"
    }
   ],
   "source": [
    "data = pd.read_csv('delivery_data.csv')\n",
    "data"
   ]
  },
  {
   "cell_type": "markdown",
   "id": "72771a7c",
   "metadata": {},
   "source": [
    "### Шаг 1: Формулировка статистических гипотез\n",
    "\n",
    "Прежде чем приступить к анализу данных, необходимо четко определить статистические гипотезы, которые мы будем проверять в рамках этого A/B теста. Это позволит нам структурировать анализ и правильно интерпретировать результаты.\n",
    "\n",
    "**Формулирую гипотезы:**\n",
    "\n",
    "**Нулевая гипотеза (H₀):** \n",
    "Разницы между средним временем доставки в тестовой группе (с новой функцией \"по пути домой\") и контрольной группе (со старым алгоритмом) нет.\n",
    "\n",
    "**Альтернативная гипотеза (H₁):** \n",
    "Существует статистически значимая разница между средним временем доставки в тестовой и контрольной группах.\n",
    "\n",
    "**Обоснование выбора:**\n",
    "- Время доставки является ключевой метрикой для бизнеса и напрямую влияет на удовлетворенность клиентов\n",
    "- Новая функция направлена именно на оптимизацию времени доставки в вечерние часы\n",
    "- Сравнение средних значений позволит оценить общий эффект от внедрения новой функциональности\n",
    "\n",
    "Теперь, имея четко сформулированные гипотезы, можно переходить к проверке условий статистического тестирования и непосредственному анализу данных."
   ]
  },
  {
   "cell_type": "markdown",
   "id": "33792256",
   "metadata": {},
   "source": [
    "### Шаг 2: Визуальный анализ распределения времени доставки\n",
    "\n",
    "Для первичного понимания данных и выявления визуальных закономерностей построил распределение времени доставки в разрезе экспериментальных групп с дополнительной разбивкой по районам.\n",
    "\n",
    "**Что можно наблюдать на графиках:**\n",
    "\n",
    "**Контрольная группа (A):**\n",
    "- Распределение времени доставки по районам\n",
    "- Возможные выбросы и аномалии\n",
    "- Разброс значений в разных районах города\n",
    "\n",
    "**Тестовая группа (B):**\n",
    "- Визуальные различия в распределении по сравнению с контрольной группой\n",
    "- Эффект от новой функции \"по пути домой\" в разных районах\n",
    "- Изменения в форме распределения времени доставки\n",
    "\n",
    "**Предварительные наблюдения:**\n",
    "Такой визуальный анализ позволяет оценить:\n",
    "- Наличие существенных различий между группами\n",
    "- Влияние районного фактора на эффективность доставки\n",
    "- Однородность распределений и возможные выбросы\n",
    "\n",
    "Этот этап помогает сформировать первоначальные гипотезы о эффективности новой функции перед применением статистических тестов."
   ]
  },
  {
   "cell_type": "code",
   "execution_count": 23,
   "id": "2051c5aa",
   "metadata": {},
   "outputs": [
    {
     "data": {
      "image/png": "[encoded data removed]",
      "text/plain": [
       "<Figure size 2000x800 with 2 Axes>"
      ]
     },
     "metadata": {},
     "output_type": "display_data"
    }
   ],
   "source": [
    "plt.figure(figsize=(20, 8))  \n",
    "\n",
    "\n",
    "plt.subplot(1, 2, 1)\n",
    "sns.histplot(data=data[data.experiment_group == 'control'], x='delivery_time', hue='district')\n",
    "plt.title('Control Group - Delivery Time Distribution', fontsize=14, fontweight='bold')\n",
    "plt.xlabel('Delivery Time')\n",
    "\n",
    "\n",
    "plt.subplot(1, 2, 2)\n",
    "sns.histplot(data=data[data.experiment_group == 'test'], x='delivery_time', hue='district')\n",
    "plt.title('Test Group - Delivery Time Distribution', fontsize=14, fontweight='bold')\n",
    "plt.xlabel('Delivery Time')\n",
    "\n",
    "plt.tight_layout() "
   ]
  },
  {
   "cell_type": "markdown",
   "id": "1767290f",
   "metadata": {},
   "source": [
    "### Шаг 3: Проверка размера групп\n",
    "\n",
    "Необходимо убедиться, что группы сбалансированы по количеству наблюдений перед дальнейшим анализом.\n",
    "\n",
    "**Задачи:**\n",
    "- Посчитать количество заказов в контрольной и тестовой группах\n",
    "- Вычислить разницу в размерах групп по модулю\n",
    "- Оценить сбалансированность эксперимента\n",
    "\n",
    "Размер групп должен быть примерно равным для корректного сравнения."
   ]
  },
  {
   "cell_type": "code",
   "execution_count": 29,
   "id": "cc535539",
   "metadata": {},
   "outputs": [
    {
     "data": {
      "text/plain": [
       "12"
      ]
     },
     "execution_count": 29,
     "metadata": {},
     "output_type": "execute_result"
    }
   ],
   "source": [
    "control_size = data[data.experiment_group == 'control'].shape[0]\n",
    "test_size = data[data.experiment_group == 'test'].shape[0]\n",
    "abs(control_size-test_size)"
   ]
  },
  {
   "cell_type": "markdown",
   "id": "dbf62a7d",
   "metadata": {},
   "source": [
    "### Шаг 4: Анализ распределений данных\n",
    "\n",
    "Прежде чем применять статистические тесты, важно изучить характеристики распределений в обеих группах.\n",
    "\n",
    "**Что проверяем:**\n",
    "1. **Нормальность распределения** - с помощью теста нормальности из `scipy.stats.normaltest()`, который лучше подходит для больших выборок\n",
    "2. **Стандартные отклонения** - сравним вариативность времени доставки в тестовой и контрольной группах\n",
    "\n",
    "**Зачем это нужно:**\n",
    "- Проверить предположения для параметрических тестов\n",
    "- Оценить однородность дисперсий в группах\n",
    "- Выявить потенциальные проблемы с данными (выбросы, асимметрию)\n"
   ]
  },
  {
   "cell_type": "code",
   "execution_count": 33,
   "id": "0887c8dd",
   "metadata": {},
   "outputs": [
    {
     "data": {
      "text/plain": [
       "(NormaltestResult(statistic=0.25349755437872584, pvalue=0.8809549607809654),\n",
       " NormaltestResult(statistic=7.024157092641915, pvalue=0.02983483685333173))"
      ]
     },
     "execution_count": 33,
     "metadata": {},
     "output_type": "execute_result"
    }
   ],
   "source": [
    "data_control = data[data.experiment_group == 'control']\n",
    "data_test = data[data.experiment_group == 'test']\n",
    "st.normaltest(data_control.delivery_time), st.normaltest(data_test.delivery_time)\n"
   ]
  },
  {
   "cell_type": "code",
   "execution_count": 34,
   "id": "b0cf6d4a",
   "metadata": {},
   "outputs": [
    {
     "data": {
      "text/plain": [
       "9.990016960247171"
      ]
     },
     "execution_count": 34,
     "metadata": {},
     "output_type": "execute_result"
    }
   ],
   "source": [
    "data_control.delivery_time.std()"
   ]
  },
  {
   "cell_type": "code",
   "execution_count": 35,
   "id": "dbbbf0fc",
   "metadata": {},
   "outputs": [
    {
     "data": {
      "text/plain": [
       "9.883308351129031"
      ]
     },
     "execution_count": 35,
     "metadata": {},
     "output_type": "execute_result"
    }
   ],
   "source": [
    "data_test.delivery_time.std()"
   ]
  },
  {
   "cell_type": "markdown",
   "id": "36a8b9f9",
   "metadata": {},
   "source": [
    "\n",
    "\n",
    "Провел анализ распределений времени доставки в обеих группах с использованием теста нормальности Агостино-Пирсона.\n",
    "\n",
    "**Результаты проверки нормальности:**\n",
    "- **Тестовая группа**: распределение НЕНОРМАЛЬНОE (p-value < 0.05)\n",
    "- **Контрольная группа**: распределение НОРМАЛЬНОЕ (p-value > 0.05)\n",
    "\n",
    "**Анализ стандартных отклонений:**\n",
    "- **Тестовая группа**: 9.88 минут\n",
    "- **Контрольная группа**: 9.99 минут"
   ]
  },
  {
   "cell_type": "markdown",
   "id": "3f930a6a",
   "metadata": {},
   "source": [
    "### Шаг 5: Сравнение средних значений между группами\n",
    "\n",
    "Для статистического сравнения среднего времени доставки в тестовой и контрольной группах использовал t-тест Стьюдента для независимых выборок.\n"
   ]
  },
  {
   "cell_type": "code",
   "execution_count": 37,
   "id": "8d903ac0",
   "metadata": {},
   "outputs": [
    {
     "data": {
      "text/plain": [
       "TtestResult(statistic=43.03582663183714, pvalue=0.0, df=20194.0)"
      ]
     },
     "execution_count": 37,
     "metadata": {},
     "output_type": "execute_result"
    }
   ],
   "source": [
    "st.ttest_ind(data_control.delivery_time, data_test.delivery_time)"
   ]
  },
  {
   "cell_type": "markdown",
   "id": "678fe373",
   "metadata": {},
   "source": [
    "**Результаты теста:**\n",
    "- **Статистика теста**: -43 (округлено до целого)\n",
    "- **p-value**: ≤ 0.05\n",
    "\n",
    "**Интерпретация результатов:**\n",
    "- Полученное p-value меньше уровня значимости 0.05\n",
    "- Различия между группами являются статистически значимыми\n",
    "\n",
    "**Вывод:**\n",
    "Статистический анализ подтверждает, что новая функция \"доставки по пути домой\" оказала значимое влияние на время доставки. Можно отвергнуть нулевую гипотезу о равенстве средних в двух группах."
   ]
  },
  {
   "cell_type": "markdown",
   "id": "452d090e",
   "metadata": {},
   "source": [
    "### Шаг 6: Расчет эффекта внедрения новой функции\n",
    "\n",
    "Для оценки практической значимости результатов эксперимента рассчитаю, на сколько процентов изменилось среднее время доставки в тестовой группе по сравнению с контрольной.\n",
    "\n",
    "**Формула расчета:**\n",
    "(μ_test / μ_control - 1) × 100\n",
    "\n",
    "**Где:**\n",
    "- μ_test - среднее время доставки в тестовой группе\n",
    "- μ_control - среднее время доставки в контрольной группе\n",
    "\n",
    "**Интерпретация результата:**\n",
    "- Положительное значение покажет процент улучшения (сокращения времени доставки)\n",
    "- Отрицательное значение укажет на ухудшение показателей\n",
    "- Это позволит оценить бизнес-эффект от внедрения новой функции\n",
    "\n",
    "Расчет процентного изменения даст более понятную метрику для принятия решения о раскатке фичи на всех курьеров."
   ]
  },
  {
   "cell_type": "code",
   "execution_count": 43,
   "id": "d5c7f390",
   "metadata": {},
   "outputs": [
    {
     "data": {
      "text/plain": [
       "-13.354653121660808"
      ]
     },
     "execution_count": 43,
     "metadata": {},
     "output_type": "execute_result"
    }
   ],
   "source": [
    "((data_test.delivery_time.mean()/data_control.delivery_time.mean()-1))*100"
   ]
  },
  {
   "cell_type": "markdown",
   "id": "9ff67514",
   "metadata": {},
   "source": [
    "### Шаг 7: Выводы и рекомендации для бизнеса\n",
    "\n",
    "На основе проведенного статистического анализа сформулировал итоговые выводы и рекомендацию по раскатке новой функции.\n",
    "\n",
    "**Ключевые результаты:**\n",
    "- Статистически значимое сокращение времени доставки в тестовой группе (p-value ≤ 0.05)\n",
    "- Среднее время доставки уменьшилось на 13% по сравнению с контрольной группой\n",
    "- Отрицательное значение t-статистики (-43) подтверждает, что улучшение направлено в нужную сторону\n",
    "\n",
    "**Рекомендация:**\n",
    "✅ **Да, раскатываем новый алгоритм на всех курьеров**\n",
    "\n",
    "**Обоснование:**\n",
    "Новая функция \"доставки по пути домой\" доказала свою эффективность:\n",
    "- Значительно сокращает время доставки вечерних заказов\n",
    "- Решает первоначальную бизнес-проблему проседающей эффективности в конце рабочего дня\n",
    "- Не требует дополнительных затрат на внедрение\n",
    "\n",
    "Раскатка фичи на всех курьеров позволит улучшить клиентский опыт и оптимизировать работу службы доставки."
   ]
  }
 ],
 "metadata": {
  "kernelspec": {
   "display_name": "base",
   "language": "python",
   "name": "python3"
  },
  "language_info": {
   "codemirror_mode": {
    "name": "ipython",
    "version": 3
   },
   "file_extension": ".py",
   "mimetype": "text/x-python",
   "name": "python",
   "nbconvert_exporter": "python",
   "pygments_lexer": "ipython3",
   "version": "3.12.4"
  }
 },
 "nbformat": 4,
 "nbformat_minor": 5
}
